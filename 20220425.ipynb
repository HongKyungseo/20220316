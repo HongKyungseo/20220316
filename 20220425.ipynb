{
  "nbformat": 4,
  "nbformat_minor": 0,
  "metadata": {
    "colab": {
      "name": "20220425.ipynb",
      "provenance": [],
      "authorship_tag": "ABX9TyPqMOGRahixneIZO/n5TFxq",
      "include_colab_link": true
    },
    "kernelspec": {
      "name": "python3",
      "display_name": "Python 3"
    },
    "language_info": {
      "name": "python"
    }
  },
  "cells": [
    {
      "cell_type": "markdown",
      "metadata": {
        "id": "view-in-github",
        "colab_type": "text"
      },
      "source": [
        "<a href=\"https://colab.research.google.com/github/HongKyungseo/class2022Spring/blob/main/20220425.ipynb\" target=\"_parent\"><img src=\"https://colab.research.google.com/assets/colab-badge.svg\" alt=\"Open In Colab\"/></a>"
      ]
    },
    {
      "cell_type": "markdown",
      "source": [
        "RMS(Root Mean Square) for intensity\n",
        "\n",
        ": also known as the quadratic mean, is the square root of the arithmetic mean of the squares of a series of numbers.\n",
        "\n",
        ": 입자들의 속도의 크기(=속력)의 제곱을 평균하여 제곱근으로 나타낸 값을 의미함. 수학에서 평균을 구하는 방법 중의 하나로서, 변수들의 분포가 음과 양의 값을 골고루 가질 때 그 크기의 정도를 알아보고자 할 때 유용한 방법\n",
        "\n"
      ],
      "metadata": {
        "id": "mwgdGmhc17Ob"
      }
    },
    {
      "cell_type": "markdown",
      "source": [
        "Autocorrelation for pitch(F0) measurement\n",
        "\n",
        ": The autocorrelation of a signal describes the similarity of a signal against a time-shifted version of itself. For a signal  x , the autocorrelation  r  is\n",
        "\n",
        "r(k)=∑x(n)x(n−k)\n",
        "r(k)=∑x(n)x(n−k)\n",
        " \n",
        "In this equation,  k  is often called the lag parameter.  r(k)  is maximized at  k=0  and is symmetric about  k .\n",
        "\n",
        "The autocorrelation is useful for finding repeated patterns in a signal. For example, at short lags, the autocorrelation can tell us something about the signal's fundamental frequency. For longer lags, the autocorrelation may tell us something about the tempo of a musical signal."
      ],
      "metadata": {
        "id": "iyPn21vf18iV"
      }
    }
  ]
}