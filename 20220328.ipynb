{
  "nbformat": 4,
  "nbformat_minor": 0,
  "metadata": {
    "colab": {
      "name": "20220328.ipynb",
      "provenance": [],
      "collapsed_sections": [],
      "authorship_tag": "ABX9TyN9mQNq94qKLuqF6cQnBhRh",
      "include_colab_link": true
    },
    "kernelspec": {
      "name": "python3",
      "display_name": "Python 3"
    },
    "language_info": {
      "name": "python"
    }
  },
  "cells": [
    {
      "cell_type": "markdown",
      "metadata": {
        "id": "view-in-github",
        "colab_type": "text"
      },
      "source": [
        "<a href=\"https://colab.research.google.com/github/HongKyungseo/class2022Spring/blob/main/20220328.ipynb\" target=\"_parent\"><img src=\"https://colab.research.google.com/assets/colab-badge.svg\" alt=\"Open In Colab\"/></a>"
      ]
    },
    {
      "cell_type": "code",
      "execution_count": 32,
      "metadata": {
        "id": "q328Fmafq5-m"
      },
      "outputs": [],
      "source": [
        "import requests"
      ]
    },
    {
      "cell_type": "code",
      "source": [
        "URL = ('http://apis.data.go.kr/B553766/smt-schedule/'\n",
        "'schedule?'\n",
        "'serviceKey=lh0wm41g5u%2FdlwuKTc8f6NZq62PdN5tXfl1oFZzjNptn1LRgImbp4hjYqZ%2FeUvavkA0yS3HwvfRMrycxE%2Fc%2BCQ%3D%3D'\n",
        "'&numOfRows=10'\n",
        "'&pageNo=1'\n",
        "'&stationCode=2640'\n",
        "'&week=DAY')"
      ],
      "metadata": {
        "id": "LzxBfJ0grvqM"
      },
      "execution_count": 35,
      "outputs": []
    },
    {
      "cell_type": "code",
      "source": [
        ""
      ],
      "metadata": {
        "id": "V3FGpUL063g3"
      },
      "execution_count": null,
      "outputs": []
    },
    {
      "cell_type": "code",
      "source": [
        "response = requests.get(URL)"
      ],
      "metadata": {
        "id": "851ynjVxrvRQ"
      },
      "execution_count": 25,
      "outputs": []
    },
    {
      "cell_type": "code",
      "source": [
        "response"
      ],
      "metadata": {
        "colab": {
          "base_uri": "https://localhost:8080/"
        },
        "id": "4OB_wiKarz2z",
        "outputId": "dcacfbf3-1dd6-4e49-9aa4-578e2621c179"
      },
      "execution_count": 26,
      "outputs": [
        {
          "output_type": "execute_result",
          "data": {
            "text/plain": [
              "<Response [200]>"
            ]
          },
          "metadata": {},
          "execution_count": 26
        }
      ]
    },
    {
      "cell_type": "code",
      "source": [
        "r = requests.get(URL)"
      ],
      "metadata": {
        "id": "QEbZSXwkSVMZ"
      },
      "execution_count": 27,
      "outputs": []
    },
    {
      "cell_type": "code",
      "source": [
        "r = response.json()\n",
        "r"
      ],
      "metadata": {
        "id": "4BD_PmWTrytK"
      },
      "execution_count": null,
      "outputs": []
    },
    {
      "cell_type": "code",
      "source": [
        "print(type(r))"
      ],
      "metadata": {
        "colab": {
          "base_uri": "https://localhost:8080/"
        },
        "id": "jGBgVseOtq-y",
        "outputId": "3c493e37-77cf-40aa-fcba-ab7b0d1070ec"
      },
      "execution_count": 39,
      "outputs": [
        {
          "output_type": "stream",
          "name": "stdout",
          "text": [
            "<class 'dict'>\n"
          ]
        }
      ]
    },
    {
      "cell_type": "markdown",
      "source": [
        "dict는 key와 value 값으로 이루어져 있음. "
      ],
      "metadata": {
        "id": "a81uptrHtyaa"
      }
    },
    {
      "cell_type": "code",
      "source": [
        "items = r['data']"
      ],
      "metadata": {
        "id": "yPt8qHBUtTT1"
      },
      "execution_count": 40,
      "outputs": []
    },
    {
      "cell_type": "code",
      "source": [
        "items[0]"
      ],
      "metadata": {
        "colab": {
          "base_uri": "https://localhost:8080/"
        },
        "id": "e2JfzVHzuOlg",
        "outputId": "a512f297-8ea9-4b5f-ba62-164ede5213f6"
      },
      "execution_count": 41,
      "outputs": [
        {
          "output_type": "execute_result",
          "data": {
            "text/plain": [
              "{'station_code': '2640',\n",
              " 'station_line': '6',\n",
              " 'station_name': '안암',\n",
              " 'train_arrtime': '053000',\n",
              " 'train_code': '6008',\n",
              " 'train_departure': '안암',\n",
              " 'train_deptime': '053000',\n",
              " 'train_destination': '응암',\n",
              " 'train_direction': 'UP',\n",
              " 'train_express': '0',\n",
              " 'week': 'DAY'}"
            ]
          },
          "metadata": {},
          "execution_count": 41
        }
      ]
    },
    {
      "cell_type": "code",
      "source": [
        "import pandas as pd"
      ],
      "metadata": {
        "id": "_M05OTrFumIj"
      },
      "execution_count": 43,
      "outputs": []
    },
    {
      "cell_type": "code",
      "source": [
        "items = r['data']"
      ],
      "metadata": {
        "id": "VlwyhrJTyw6r"
      },
      "execution_count": 44,
      "outputs": []
    },
    {
      "cell_type": "code",
      "source": [
        "stationcode = [item['station_code'] for item in items]\n",
        "stationline = [item['station_line'] for item in items]\n",
        "stationname = [item['station_name'] for item in items]\n",
        "arrtime = [item['train_arrtime'] for item in items]\n",
        "traincode = [item['train_code'] for item in items]\n",
        "departure = [item['train_departure'] for item in items]\n",
        "deptime = [item['train_deptime'] for item in items]\n",
        "destination = [item['train_destination'] for item in items]\n",
        "direction = [item['train_direction'] for item in items]\n",
        "express = [item['train_express'] for item in items]\n",
        "week = [item['week'] for item in items]"
      ],
      "metadata": {
        "id": "AT7U0tr-uwNw"
      },
      "execution_count": 45,
      "outputs": []
    },
    {
      "cell_type": "code",
      "source": [
        "Stationcode = pd.Series(stationcode)\n",
        "Stationline = pd.Series(stationline)\n",
        "Stationneame = pd.Series(stationname)\n",
        "Arrivetime = pd.Series(arrtime)\n",
        "Traincode = pd.Series(traincode)\n",
        "Departure = pd.Series(departure)\n",
        "Deptime = pd.Series(deptime)\n",
        "Destination = pd.Series(destination)\n",
        "Direction = pd.Series(direction)\n",
        "Express = pd.Series(express)\n",
        "Week = pd.Series(week)"
      ],
      "metadata": {
        "id": "AdufDfU_ysfN"
      },
      "execution_count": 46,
      "outputs": []
    },
    {
      "cell_type": "code",
      "source": [
        "df = pd.DataFrame ({'stationcode':stationcode, 'station_line':stationline, 'station_name':stationname, 'train_Arrtime':arrtime,'train_code':traincode, 'train_departure':departure, 'train_deptime': deptime, 'train_destination':destination, 'train_direction':direction, 'train_express':express, 'week':week})"
      ],
      "metadata": {
        "id": "LbQfyYs_0cNj"
      },
      "execution_count": 47,
      "outputs": []
    },
    {
      "cell_type": "code",
      "source": [
        "df"
      ],
      "metadata": {
        "colab": {
          "base_uri": "https://localhost:8080/",
          "height": 363
        },
        "id": "TPmuxX1c0cGE",
        "outputId": "41bf1792-3eed-4e33-8aa6-afba4d6a6862"
      },
      "execution_count": 48,
      "outputs": [
        {
          "output_type": "execute_result",
          "data": {
            "text/plain": [
              "  stationcode station_line station_name train_Arrtime train_code  \\\n",
              "0        2640            6           안암        053000       6008   \n",
              "1        2640            6           안암        053700       6010   \n",
              "2        2640            6           안암        054350       6012   \n",
              "3        2640            6           안암        055050       6014   \n",
              "4        2640            6           안암        055750       6016   \n",
              "5        2640            6           안암        060450       6018   \n",
              "6        2640            6           안암        061150       6020   \n",
              "7        2640            6           안암        061850       6022   \n",
              "8        2640            6           안암        062450       6024   \n",
              "9        2640            6           안암        063050       6026   \n",
              "\n",
              "  train_departure train_deptime train_destination train_direction  \\\n",
              "0              안암        053000                응암              UP   \n",
              "1             상월곡        053730                응암              UP   \n",
              "2             봉화산        054420                응암              UP   \n",
              "3             봉화산        055120                응암              UP   \n",
              "4              신내        055820                응암              UP   \n",
              "5             봉화산        060520                응암              UP   \n",
              "6             봉화산        061220                응암              UP   \n",
              "7              신내        061920                응암              UP   \n",
              "8             봉화산        062520                응암              UP   \n",
              "9              신내        063120                응암              UP   \n",
              "\n",
              "  train_express week  \n",
              "0             0  DAY  \n",
              "1             0  DAY  \n",
              "2             0  DAY  \n",
              "3             0  DAY  \n",
              "4             0  DAY  \n",
              "5             0  DAY  \n",
              "6             0  DAY  \n",
              "7             0  DAY  \n",
              "8             0  DAY  \n",
              "9             0  DAY  "
            ],
            "text/html": [
              "\n",
              "  <div id=\"df-8eea5a31-56fa-4e28-b817-6f1165539698\">\n",
              "    <div class=\"colab-df-container\">\n",
              "      <div>\n",
              "<style scoped>\n",
              "    .dataframe tbody tr th:only-of-type {\n",
              "        vertical-align: middle;\n",
              "    }\n",
              "\n",
              "    .dataframe tbody tr th {\n",
              "        vertical-align: top;\n",
              "    }\n",
              "\n",
              "    .dataframe thead th {\n",
              "        text-align: right;\n",
              "    }\n",
              "</style>\n",
              "<table border=\"1\" class=\"dataframe\">\n",
              "  <thead>\n",
              "    <tr style=\"text-align: right;\">\n",
              "      <th></th>\n",
              "      <th>stationcode</th>\n",
              "      <th>station_line</th>\n",
              "      <th>station_name</th>\n",
              "      <th>train_Arrtime</th>\n",
              "      <th>train_code</th>\n",
              "      <th>train_departure</th>\n",
              "      <th>train_deptime</th>\n",
              "      <th>train_destination</th>\n",
              "      <th>train_direction</th>\n",
              "      <th>train_express</th>\n",
              "      <th>week</th>\n",
              "    </tr>\n",
              "  </thead>\n",
              "  <tbody>\n",
              "    <tr>\n",
              "      <th>0</th>\n",
              "      <td>2640</td>\n",
              "      <td>6</td>\n",
              "      <td>안암</td>\n",
              "      <td>053000</td>\n",
              "      <td>6008</td>\n",
              "      <td>안암</td>\n",
              "      <td>053000</td>\n",
              "      <td>응암</td>\n",
              "      <td>UP</td>\n",
              "      <td>0</td>\n",
              "      <td>DAY</td>\n",
              "    </tr>\n",
              "    <tr>\n",
              "      <th>1</th>\n",
              "      <td>2640</td>\n",
              "      <td>6</td>\n",
              "      <td>안암</td>\n",
              "      <td>053700</td>\n",
              "      <td>6010</td>\n",
              "      <td>상월곡</td>\n",
              "      <td>053730</td>\n",
              "      <td>응암</td>\n",
              "      <td>UP</td>\n",
              "      <td>0</td>\n",
              "      <td>DAY</td>\n",
              "    </tr>\n",
              "    <tr>\n",
              "      <th>2</th>\n",
              "      <td>2640</td>\n",
              "      <td>6</td>\n",
              "      <td>안암</td>\n",
              "      <td>054350</td>\n",
              "      <td>6012</td>\n",
              "      <td>봉화산</td>\n",
              "      <td>054420</td>\n",
              "      <td>응암</td>\n",
              "      <td>UP</td>\n",
              "      <td>0</td>\n",
              "      <td>DAY</td>\n",
              "    </tr>\n",
              "    <tr>\n",
              "      <th>3</th>\n",
              "      <td>2640</td>\n",
              "      <td>6</td>\n",
              "      <td>안암</td>\n",
              "      <td>055050</td>\n",
              "      <td>6014</td>\n",
              "      <td>봉화산</td>\n",
              "      <td>055120</td>\n",
              "      <td>응암</td>\n",
              "      <td>UP</td>\n",
              "      <td>0</td>\n",
              "      <td>DAY</td>\n",
              "    </tr>\n",
              "    <tr>\n",
              "      <th>4</th>\n",
              "      <td>2640</td>\n",
              "      <td>6</td>\n",
              "      <td>안암</td>\n",
              "      <td>055750</td>\n",
              "      <td>6016</td>\n",
              "      <td>신내</td>\n",
              "      <td>055820</td>\n",
              "      <td>응암</td>\n",
              "      <td>UP</td>\n",
              "      <td>0</td>\n",
              "      <td>DAY</td>\n",
              "    </tr>\n",
              "    <tr>\n",
              "      <th>5</th>\n",
              "      <td>2640</td>\n",
              "      <td>6</td>\n",
              "      <td>안암</td>\n",
              "      <td>060450</td>\n",
              "      <td>6018</td>\n",
              "      <td>봉화산</td>\n",
              "      <td>060520</td>\n",
              "      <td>응암</td>\n",
              "      <td>UP</td>\n",
              "      <td>0</td>\n",
              "      <td>DAY</td>\n",
              "    </tr>\n",
              "    <tr>\n",
              "      <th>6</th>\n",
              "      <td>2640</td>\n",
              "      <td>6</td>\n",
              "      <td>안암</td>\n",
              "      <td>061150</td>\n",
              "      <td>6020</td>\n",
              "      <td>봉화산</td>\n",
              "      <td>061220</td>\n",
              "      <td>응암</td>\n",
              "      <td>UP</td>\n",
              "      <td>0</td>\n",
              "      <td>DAY</td>\n",
              "    </tr>\n",
              "    <tr>\n",
              "      <th>7</th>\n",
              "      <td>2640</td>\n",
              "      <td>6</td>\n",
              "      <td>안암</td>\n",
              "      <td>061850</td>\n",
              "      <td>6022</td>\n",
              "      <td>신내</td>\n",
              "      <td>061920</td>\n",
              "      <td>응암</td>\n",
              "      <td>UP</td>\n",
              "      <td>0</td>\n",
              "      <td>DAY</td>\n",
              "    </tr>\n",
              "    <tr>\n",
              "      <th>8</th>\n",
              "      <td>2640</td>\n",
              "      <td>6</td>\n",
              "      <td>안암</td>\n",
              "      <td>062450</td>\n",
              "      <td>6024</td>\n",
              "      <td>봉화산</td>\n",
              "      <td>062520</td>\n",
              "      <td>응암</td>\n",
              "      <td>UP</td>\n",
              "      <td>0</td>\n",
              "      <td>DAY</td>\n",
              "    </tr>\n",
              "    <tr>\n",
              "      <th>9</th>\n",
              "      <td>2640</td>\n",
              "      <td>6</td>\n",
              "      <td>안암</td>\n",
              "      <td>063050</td>\n",
              "      <td>6026</td>\n",
              "      <td>신내</td>\n",
              "      <td>063120</td>\n",
              "      <td>응암</td>\n",
              "      <td>UP</td>\n",
              "      <td>0</td>\n",
              "      <td>DAY</td>\n",
              "    </tr>\n",
              "  </tbody>\n",
              "</table>\n",
              "</div>\n",
              "      <button class=\"colab-df-convert\" onclick=\"convertToInteractive('df-8eea5a31-56fa-4e28-b817-6f1165539698')\"\n",
              "              title=\"Convert this dataframe to an interactive table.\"\n",
              "              style=\"display:none;\">\n",
              "        \n",
              "  <svg xmlns=\"http://www.w3.org/2000/svg\" height=\"24px\"viewBox=\"0 0 24 24\"\n",
              "       width=\"24px\">\n",
              "    <path d=\"M0 0h24v24H0V0z\" fill=\"none\"/>\n",
              "    <path d=\"M18.56 5.44l.94 2.06.94-2.06 2.06-.94-2.06-.94-.94-2.06-.94 2.06-2.06.94zm-11 1L8.5 8.5l.94-2.06 2.06-.94-2.06-.94L8.5 2.5l-.94 2.06-2.06.94zm10 10l.94 2.06.94-2.06 2.06-.94-2.06-.94-.94-2.06-.94 2.06-2.06.94z\"/><path d=\"M17.41 7.96l-1.37-1.37c-.4-.4-.92-.59-1.43-.59-.52 0-1.04.2-1.43.59L10.3 9.45l-7.72 7.72c-.78.78-.78 2.05 0 2.83L4 21.41c.39.39.9.59 1.41.59.51 0 1.02-.2 1.41-.59l7.78-7.78 2.81-2.81c.8-.78.8-2.07 0-2.86zM5.41 20L4 18.59l7.72-7.72 1.47 1.35L5.41 20z\"/>\n",
              "  </svg>\n",
              "      </button>\n",
              "      \n",
              "  <style>\n",
              "    .colab-df-container {\n",
              "      display:flex;\n",
              "      flex-wrap:wrap;\n",
              "      gap: 12px;\n",
              "    }\n",
              "\n",
              "    .colab-df-convert {\n",
              "      background-color: #E8F0FE;\n",
              "      border: none;\n",
              "      border-radius: 50%;\n",
              "      cursor: pointer;\n",
              "      display: none;\n",
              "      fill: #1967D2;\n",
              "      height: 32px;\n",
              "      padding: 0 0 0 0;\n",
              "      width: 32px;\n",
              "    }\n",
              "\n",
              "    .colab-df-convert:hover {\n",
              "      background-color: #E2EBFA;\n",
              "      box-shadow: 0px 1px 2px rgba(60, 64, 67, 0.3), 0px 1px 3px 1px rgba(60, 64, 67, 0.15);\n",
              "      fill: #174EA6;\n",
              "    }\n",
              "\n",
              "    [theme=dark] .colab-df-convert {\n",
              "      background-color: #3B4455;\n",
              "      fill: #D2E3FC;\n",
              "    }\n",
              "\n",
              "    [theme=dark] .colab-df-convert:hover {\n",
              "      background-color: #434B5C;\n",
              "      box-shadow: 0px 1px 3px 1px rgba(0, 0, 0, 0.15);\n",
              "      filter: drop-shadow(0px 1px 2px rgba(0, 0, 0, 0.3));\n",
              "      fill: #FFFFFF;\n",
              "    }\n",
              "  </style>\n",
              "\n",
              "      <script>\n",
              "        const buttonEl =\n",
              "          document.querySelector('#df-8eea5a31-56fa-4e28-b817-6f1165539698 button.colab-df-convert');\n",
              "        buttonEl.style.display =\n",
              "          google.colab.kernel.accessAllowed ? 'block' : 'none';\n",
              "\n",
              "        async function convertToInteractive(key) {\n",
              "          const element = document.querySelector('#df-8eea5a31-56fa-4e28-b817-6f1165539698');\n",
              "          const dataTable =\n",
              "            await google.colab.kernel.invokeFunction('convertToInteractive',\n",
              "                                                     [key], {});\n",
              "          if (!dataTable) return;\n",
              "\n",
              "          const docLinkHtml = 'Like what you see? Visit the ' +\n",
              "            '<a target=\"_blank\" href=https://colab.research.google.com/notebooks/data_table.ipynb>data table notebook</a>'\n",
              "            + ' to learn more about interactive tables.';\n",
              "          element.innerHTML = '';\n",
              "          dataTable['output_type'] = 'display_data';\n",
              "          await google.colab.output.renderOutput(dataTable, element);\n",
              "          const docLink = document.createElement('div');\n",
              "          docLink.innerHTML = docLinkHtml;\n",
              "          element.appendChild(docLink);\n",
              "        }\n",
              "      </script>\n",
              "    </div>\n",
              "  </div>\n",
              "  "
            ]
          },
          "metadata": {},
          "execution_count": 48
        }
      ]
    },
    {
      "cell_type": "code",
      "source": [
        "!pip install gradio \n",
        "import gradio as gr"
      ],
      "metadata": {
        "id": "EFp89o9z1uny"
      },
      "execution_count": null,
      "outputs": []
    },
    {
      "cell_type": "code",
      "source": [
        "def test (stationCode):\n",
        "  URL = ('http://apis.data.go.kr/B553766/smt-schedule/'\n",
        "  'schedule?'\n",
        "  'serviceKey=lh0wm41g5u%2FdlwuKTc8f6NZq62PdN5tXfl1oFZzjNptn1LRgImbp4hjYqZ%2FeUvavkA0yS3HwvfRMrycxE%2Fc%2BCQ%3D%3D'\n",
        "  '&numOfRows=10'\n",
        "  '&pageNo=1'\n",
        "  '&stationCode='+stationCode+\n",
        "  '&week=DAY')\n",
        "\n",
        "  response = requests.get(URL)\n",
        "  r=response.json()\n",
        "  items = r['data']\n",
        "\n",
        "  stationcode = [item['station_code'] for item in items]\n",
        "  stationline = [item['station_line'] for item in items]\n",
        "  stationname = [item['station_name'] for item in items]\n",
        "  arrtime = [item['train_arrtime'] for item in items]\n",
        "  traincode = [item['train_code'] for item in items]\n",
        "  departure = [item['train_departure'] for item in items]\n",
        "  deptime = [item['train_deptime'] for item in items]\n",
        "  destination = [item['train_destination'] for item in items]\n",
        "  direction = [item['train_direction'] for item in items]\n",
        "  express = [item['train_express'] for item in items]\n",
        "  week = [item['week'] for item in items]\n",
        "\n",
        "  Stationcode = pd.Series(stationcode)\n",
        "  Stationline = pd.Series(stationline)\n",
        "  Stationneame = pd.Series(stationname)\n",
        "  Arrivetime = pd.Series(arrtime)\n",
        "  Traincode = pd.Series(traincode)\n",
        "  Departure = pd.Series(departure)\n",
        "  Deptime = pd.Series(deptime)\n",
        "  Destination = pd.Series(destination)\n",
        "  Direction = pd.Series(direction)\n",
        "  Express = pd.Series(express)\n",
        "  Week = pd.Series(week)\n",
        "\n",
        "  df = pd.DataFrame ({'stationcode':stationcode, 'station_line':stationline, 'station_name':stationname, 'train_Arrtime':arrtime,'train_code':traincode, 'train_departure':departure, 'train_deptime': deptime, 'train_destination':destination, 'train_direction':direction, 'train_express':express, 'week':week})\n",
        "  return df"
      ],
      "metadata": {
        "id": "VBkaVPhR2DQp"
      },
      "execution_count": 50,
      "outputs": []
    },
    {
      "cell_type": "code",
      "source": [
        "iface = gr.Interface (test, gr.inputs.Dropdown (['0150','0151', '0152', '0222', '2640', '2641']), outputs = ['dataframe'])\n",
        "iface.launch(debug=True)"
      ],
      "metadata": {
        "colab": {
          "base_uri": "https://localhost:8080/",
          "height": 666
        },
        "id": "KPupM1xEBMf0",
        "outputId": "ad7acf54-b41b-44e2-9583-d2c6a4a24866"
      },
      "execution_count": 53,
      "outputs": [
        {
          "output_type": "stream",
          "name": "stdout",
          "text": [
            "Colab notebook detected. This cell will run indefinitely so that you can see errors and logs. To turn off, set debug=False in launch().\n",
            "Running on public URL: https://47355.gradio.app\n",
            "\n",
            "This share link expires in 72 hours. For free permanent hosting, check out Spaces (https://huggingface.co/spaces)\n"
          ]
        },
        {
          "output_type": "display_data",
          "data": {
            "text/plain": [
              "<IPython.lib.display.IFrame at 0x7f738be2ccd0>"
            ],
            "text/html": [
              "\n",
              "        <iframe\n",
              "            width=\"900\"\n",
              "            height=\"500\"\n",
              "            src=\"https://47355.gradio.app\"\n",
              "            frameborder=\"0\"\n",
              "            allowfullscreen\n",
              "        ></iframe>\n",
              "        "
            ]
          },
          "metadata": {}
        },
        {
          "output_type": "stream",
          "name": "stdout",
          "text": [
            "Keyboard interruption in main thread... closing server.\n"
          ]
        },
        {
          "output_type": "execute_result",
          "data": {
            "text/plain": [
              "(<fastapi.applications.FastAPI at 0x7f738d9542d0>,\n",
              " 'http://127.0.0.1:7860/',\n",
              " 'https://47355.gradio.app')"
            ]
          },
          "metadata": {},
          "execution_count": 53
        }
      ]
    }
  ]
}