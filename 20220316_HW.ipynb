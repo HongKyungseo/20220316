{
  "nbformat": 4,
  "nbformat_minor": 0,
  "metadata": {
    "colab": {
      "name": "20220316 HW.ipynb",
      "provenance": [],
      "collapsed_sections": [],
      "authorship_tag": "ABX9TyMBJ6x45kEMfPXOv0ck4qAP",
      "include_colab_link": true
    },
    "kernelspec": {
      "name": "python3",
      "display_name": "Python 3"
    },
    "language_info": {
      "name": "python"
    }
  },
  "cells": [
    {
      "cell_type": "markdown",
      "metadata": {
        "id": "view-in-github",
        "colab_type": "text"
      },
      "source": [
        "<a href=\"https://colab.research.google.com/github/HongKyungseo/20220316/blob/main/20220316_HW.ipynb\" target=\"_parent\"><img src=\"https://colab.research.google.com/assets/colab-badge.svg\" alt=\"Open In Colab\"/></a>"
      ]
    },
    {
      "cell_type": "markdown",
      "source": [
        "1. Variables -> numbers, string (문자), list, dict\n",
        "\n",
        "**1.1. numbers** -> 정수는 int로 표현"
      ],
      "metadata": {
        "id": "0BjGtI4kKzKi"
      }
    },
    {
      "cell_type": "code",
      "execution_count": null,
      "metadata": {
        "colab": {
          "base_uri": "https://localhost:8080/"
        },
        "id": "sR7sx3oDKwaC",
        "outputId": "94b9bbc2-49ff-4454-a01d-e52d02429cca"
      },
      "outputs": [
        {
          "output_type": "stream",
          "name": "stdout",
          "text": [
            "<class 'int'>\n"
          ]
        }
      ],
      "source": [
        "a=1\n",
        "print (type(a))\n"
      ]
    },
    {
      "cell_type": "code",
      "source": [
        "b=1.0\n",
        "print(type(b))"
      ],
      "metadata": {
        "colab": {
          "base_uri": "https://localhost:8080/"
        },
        "id": "BV8HlYQfMiS8",
        "outputId": "c9b05ba4-92e3-4693-d15b-861710bdfa79"
      },
      "execution_count": null,
      "outputs": [
        {
          "output_type": "stream",
          "name": "stdout",
          "text": [
            "<class 'float'>\n"
          ]
        }
      ]
    },
    {
      "cell_type": "markdown",
      "source": [
        "실수는 float, 정수는 int라고 표현됨"
      ],
      "metadata": {
        "id": "4tMvkGaIM2QK"
      }
    },
    {
      "cell_type": "markdown",
      "source": [
        "**1.2. string**"
      ],
      "metadata": {
        "id": "sULWHwq-bxGZ"
      }
    },
    {
      "cell_type": "code",
      "source": [
        "c=123 ;d='123'"
      ],
      "metadata": {
        "id": "nHBgY6mcNQRE"
      },
      "execution_count": null,
      "outputs": []
    },
    {
      "cell_type": "code",
      "source": [
        "print (type(c))\n",
        "print (type(d))"
      ],
      "metadata": {
        "colab": {
          "base_uri": "https://localhost:8080/"
        },
        "id": "SQCYxv6BNYR3",
        "outputId": "c5f7a259-d818-4133-8303-6f7b065e4067"
      },
      "execution_count": null,
      "outputs": [
        {
          "output_type": "stream",
          "name": "stdout",
          "text": [
            "<class 'int'>\n",
            "<class 'str'>\n"
          ]
        }
      ]
    },
    {
      "cell_type": "markdown",
      "source": [
        "' ' 인용부호와 함께 입력하면 숫자도 string이 됨. d의 경우 세 숫자로 이루어져 있으므로 3 chars"
      ],
      "metadata": {
        "id": "ipf7E8V-NwEs"
      }
    },
    {
      "cell_type": "code",
      "source": [
        "e='strawberry'\n",
        "print (type(e))"
      ],
      "metadata": {
        "colab": {
          "base_uri": "https://localhost:8080/"
        },
        "id": "n56sdcxHO_CG",
        "outputId": "18682e4b-5307-47d3-bd5a-595c532d1e07"
      },
      "execution_count": null,
      "outputs": [
        {
          "output_type": "stream",
          "name": "stdout",
          "text": [
            "<class 'str'>\n"
          ]
        }
      ]
    },
    {
      "cell_type": "code",
      "source": [
        "e='apple'\n",
        "e.upper()"
      ],
      "metadata": {
        "colab": {
          "base_uri": "https://localhost:8080/",
          "height": 35
        },
        "id": "3BivLE8uey-f",
        "outputId": "2145f0af-87ed-4dc4-eb95-63d79627a6ec"
      },
      "execution_count": null,
      "outputs": [
        {
          "output_type": "execute_result",
          "data": {
            "text/plain": [
              "'APPLE'"
            ],
            "application/vnd.google.colaboratory.intrinsic+json": {
              "type": "string"
            }
          },
          "metadata": {},
          "execution_count": 50
        }
      ]
    },
    {
      "cell_type": "markdown",
      "source": [
        "대문자로 변경"
      ],
      "metadata": {
        "id": "zRumAoQdfAbB"
      }
    },
    {
      "cell_type": "code",
      "source": [
        "e[1]+e[3]+e[3:]*3"
      ],
      "metadata": {
        "colab": {
          "base_uri": "https://localhost:8080/",
          "height": 35
        },
        "id": "OJ_8Bn07fLCK",
        "outputId": "658ea224-7458-4d48-e182-4601201de621"
      },
      "execution_count": null,
      "outputs": [
        {
          "output_type": "execute_result",
          "data": {
            "text/plain": [
              "'pllelele'"
            ],
            "application/vnd.google.colaboratory.intrinsic+json": {
              "type": "string"
            }
          },
          "metadata": {},
          "execution_count": 51
        }
      ]
    },
    {
      "cell_type": "code",
      "source": [
        "e='I am studying now in the cafe '\n"
      ],
      "metadata": {
        "id": "oU0dnF1nflJC"
      },
      "execution_count": null,
      "outputs": []
    },
    {
      "cell_type": "code",
      "source": [
        "result1 = e.find('now')\n",
        "result2 = e.find('cafe')\n",
        "print(result1); print(result2)"
      ],
      "metadata": {
        "colab": {
          "base_uri": "https://localhost:8080/"
        },
        "id": "wGrQDtyBgBKi",
        "outputId": "a490c9cc-6e49-4846-b69d-a5f7ab6f89c6"
      },
      "execution_count": null,
      "outputs": [
        {
          "output_type": "stream",
          "name": "stdout",
          "text": [
            "14\n",
            "25\n"
          ]
        }
      ]
    },
    {
      "cell_type": "markdown",
      "source": [
        "해당 단어 찾기. 빈칸 포함해서 카운팅"
      ],
      "metadata": {
        "id": "MX4K8884mMOW"
      }
    },
    {
      "cell_type": "code",
      "source": [
        "f=e.strip()\n",
        "print(f)"
      ],
      "metadata": {
        "colab": {
          "base_uri": "https://localhost:8080/"
        },
        "id": "vGaSYU-gjX3G",
        "outputId": "7918854d-9902-495f-c633-4c716dbac246"
      },
      "execution_count": null,
      "outputs": [
        {
          "output_type": "stream",
          "name": "stdout",
          "text": [
            "I am studying now in the cafe\n"
          ]
        }
      ]
    },
    {
      "cell_type": "markdown",
      "source": [
        "문장부호나 필요없는 스페이스를 없애줌. "
      ],
      "metadata": {
        "id": "4THZgj5kmSto"
      }
    },
    {
      "cell_type": "code",
      "source": [
        "g=f.split(' ')\n",
        "print(g)"
      ],
      "metadata": {
        "colab": {
          "base_uri": "https://localhost:8080/"
        },
        "id": "S_H9jmpgm7zR",
        "outputId": "253c161f-4f69-4b22-cfcd-d333c81926c5"
      },
      "execution_count": null,
      "outputs": [
        {
          "output_type": "stream",
          "name": "stdout",
          "text": [
            "['I', 'am', 'studying', 'now', 'in', 'the', 'cafe']\n"
          ]
        }
      ]
    },
    {
      "cell_type": "code",
      "source": [
        "h=' '.join(g)\n",
        "h"
      ],
      "metadata": {
        "colab": {
          "base_uri": "https://localhost:8080/",
          "height": 35
        },
        "id": "HricC1ahnlSO",
        "outputId": "f429c7ea-7382-457e-edbd-6ad21a363e89"
      },
      "execution_count": null,
      "outputs": [
        {
          "output_type": "execute_result",
          "data": {
            "text/plain": [
              "'I am studying now in the cafe'"
            ],
            "application/vnd.google.colaboratory.intrinsic+json": {
              "type": "string"
            }
          },
          "metadata": {},
          "execution_count": 85
        }
      ]
    },
    {
      "cell_type": "code",
      "source": [
        "i=h.replace('cafe', 'house')\n",
        "print(i)"
      ],
      "metadata": {
        "colab": {
          "base_uri": "https://localhost:8080/"
        },
        "id": "fq5r2whin0yM",
        "outputId": "883ae618-d32c-4c70-b521-b18adcd49c3a"
      },
      "execution_count": null,
      "outputs": [
        {
          "output_type": "stream",
          "name": "stdout",
          "text": [
            "I am studying now in the house\n"
          ]
        }
      ]
    },
    {
      "cell_type": "markdown",
      "source": [
        "**1.3. list**"
      ],
      "metadata": {
        "id": "h7-zSOmNb3Df"
      }
    },
    {
      "cell_type": "code",
      "source": [
        "f=['a', a, 'ef',[2,3], 5, 'hi']\n",
        "print(type(f))"
      ],
      "metadata": {
        "colab": {
          "base_uri": "https://localhost:8080/"
        },
        "id": "lY4BcYz7PbpV",
        "outputId": "c2320e9b-1055-4db9-838c-e42953b26554"
      },
      "execution_count": null,
      "outputs": [
        {
          "output_type": "stream",
          "name": "stdout",
          "text": [
            "<class 'list'>\n"
          ]
        }
      ]
    },
    {
      "cell_type": "markdown",
      "source": [
        "[  ]로 정의되면 list. list에는 숫자나 문자를 여러개 담을 수 있음. list도 하나의 item으로서 list 안에 들어갈 수 있음. \n",
        "위의 f에서 a는 위에 정의된 a를 의미하고, 'a'는 새로운 문자를 의미. "
      ],
      "metadata": {
        "id": "BpM7wo6WTPUJ"
      }
    },
    {
      "cell_type": "code",
      "source": [
        "print(f[3]); print(f[0]); print(f[1]); print(f[-1]); print(f[-4])"
      ],
      "metadata": {
        "colab": {
          "base_uri": "https://localhost:8080/"
        },
        "id": "qAfJtIG7TUql",
        "outputId": "f8a14083-30f1-4362-d184-ea3e14f5c795"
      },
      "execution_count": null,
      "outputs": [
        {
          "output_type": "stream",
          "name": "stdout",
          "text": [
            "[2, 3]\n",
            "a\n",
            "1\n",
            "hi\n",
            "ef\n"
          ]
        }
      ]
    },
    {
      "cell_type": "code",
      "source": [
        "print(f[1:4]); print(f[2:]); print(f[0:-1]); print(f[:5]); print(f[:])"
      ],
      "metadata": {
        "colab": {
          "base_uri": "https://localhost:8080/"
        },
        "id": "vfWadknWWXLv",
        "outputId": "7140d509-25f2-4060-fb59-580842310576"
      },
      "execution_count": null,
      "outputs": [
        {
          "output_type": "stream",
          "name": "stdout",
          "text": [
            "[1, 'ef', [2, 3]]\n",
            "['ef', [2, 3], 5, 'hi']\n",
            "['a', 1, 'ef', [2, 3], 5]\n",
            "['a', 1, 'ef', [2, 3], 5]\n",
            "['a', 1, 'ef', [2, 3], 5, 'hi']\n"
          ]
        }
      ]
    },
    {
      "cell_type": "markdown",
      "source": [
        "리스트 내에서 특정 범위를 설정하는 방법. -1은 마지막 항목을 의미. 범위에서 뒷 부분의 숫자는 포함되지 않음"
      ],
      "metadata": {
        "id": "vgZfZsfqWrFh"
      }
    },
    {
      "cell_type": "code",
      "source": [
        "print(f[3][0])"
      ],
      "metadata": {
        "colab": {
          "base_uri": "https://localhost:8080/"
        },
        "id": "k3arAS7lWx3x",
        "outputId": "a1140e24-da32-4ba1-b2a4-4da8ea898792"
      },
      "execution_count": null,
      "outputs": [
        {
          "output_type": "stream",
          "name": "stdout",
          "text": [
            "2\n"
          ]
        }
      ]
    },
    {
      "cell_type": "code",
      "source": [
        "print(len(f))\n",
        "print(len(f[2]))"
      ],
      "metadata": {
        "colab": {
          "base_uri": "https://localhost:8080/"
        },
        "id": "Mf0Fz6DQd2P5",
        "outputId": "3503a0b4-5f00-46a8-de04-0daef1322a99"
      },
      "execution_count": null,
      "outputs": [
        {
          "output_type": "stream",
          "name": "stdout",
          "text": [
            "6\n",
            "2\n"
          ]
        }
      ]
    },
    {
      "cell_type": "markdown",
      "source": [
        "리스트 내의 리스트에서도 특정 item만 선정해 꺼낼 수 있음\n",
        "len은 list의 길이를 구하는 함수"
      ],
      "metadata": {
        "id": "3Q9LSMB1YauF"
      }
    },
    {
      "cell_type": "code",
      "source": [
        "g='123456789'\n",
        "print(type(g)), print(g[4])"
      ],
      "metadata": {
        "colab": {
          "base_uri": "https://localhost:8080/"
        },
        "id": "M1og7vJoYxWG",
        "outputId": "214c745f-5915-4b5f-a319-104c94843035"
      },
      "execution_count": null,
      "outputs": [
        {
          "output_type": "stream",
          "name": "stdout",
          "text": [
            "<class 'str'>\n",
            "5\n"
          ]
        },
        {
          "output_type": "execute_result",
          "data": {
            "text/plain": [
              "(None, None)"
            ]
          },
          "metadata": {},
          "execution_count": 35
        }
      ]
    },
    {
      "cell_type": "markdown",
      "source": [
        "string에서도 동일한 방법으로 적용가능"
      ],
      "metadata": {
        "id": "ZgGwwaXmYyx8"
      }
    },
    {
      "cell_type": "code",
      "source": [
        "h=(1,2,3)\n",
        "print(type(h))"
      ],
      "metadata": {
        "colab": {
          "base_uri": "https://localhost:8080/"
        },
        "id": "d8brtyNtaehD",
        "outputId": "42220d29-d331-409d-9cb9-1deac223df55"
      },
      "execution_count": null,
      "outputs": [
        {
          "output_type": "stream",
          "name": "stdout",
          "text": [
            "<class 'tuple'>\n"
          ]
        }
      ]
    },
    {
      "cell_type": "markdown",
      "source": [
        "[  ]가 (   )로 바뀌면 tuple임. 리스트와 매우유사한데 내부 바꾸기를 못한다는 차이가 있음"
      ],
      "metadata": {
        "id": "IC7TP2Efaq3w"
      }
    },
    {
      "cell_type": "markdown",
      "source": [
        "**1.4. dict**"
      ],
      "metadata": {
        "id": "piQZbBjob6hr"
      }
    },
    {
      "cell_type": "code",
      "source": [
        "i =\t{\"a\": \"apple\", \"b\": \"banana\", \"c\": 2022}\n",
        "print(type(i))\n",
        "print(i[\"a\"])"
      ],
      "metadata": {
        "colab": {
          "base_uri": "https://localhost:8080/"
        },
        "id": "lFhY3K2KYkC4",
        "outputId": "fbecf1c8-a39d-4207-8fdd-e8f2131e06e5"
      },
      "execution_count": null,
      "outputs": [
        {
          "output_type": "stream",
          "name": "stdout",
          "text": [
            "<class 'dict'>\n",
            "apple\n"
          ]
        }
      ]
    },
    {
      "cell_type": "markdown",
      "source": [
        "\" \"나 ' '중에 무엇을 쓰던 상관없음. 섞어서 쓰는 것은 안됨. \n",
        "Dict는 key와 Value로 이루어져 있음. dict는 list나 string과 달리 몇번재를 가져오는 것이 아니라 키 값을 가져오는 것이 가능한 것임."
      ],
      "metadata": {
        "id": "LlpqksDXa7DD"
      }
    },
    {
      "cell_type": "markdown",
      "source": [
        "**2. function 함수**\n",
        "\n",
        "def 함수명 (입력변수명) : return 내용\n",
        "의 형식으로 함수를 정의할 수 있음. "
      ],
      "metadata": {
        "id": "oNxjUqAOcQVQ"
      }
    },
    {
      "cell_type": "code",
      "source": [
        "def add(a,b) : return a+b+3\n"
      ],
      "metadata": {
        "id": "hzIVp06gohXV"
      },
      "execution_count": null,
      "outputs": []
    },
    {
      "cell_type": "code",
      "source": [
        "c= add (4, 2)\n",
        "print(c)"
      ],
      "metadata": {
        "colab": {
          "base_uri": "https://localhost:8080/"
        },
        "id": "OYqsREPiualy",
        "outputId": "455ede97-be7c-4ef2-eb4f-bbb5940f226a"
      },
      "execution_count": null,
      "outputs": [
        {
          "output_type": "stream",
          "name": "stdout",
          "text": [
            "9\n"
          ]
        }
      ]
    },
    {
      "cell_type": "markdown",
      "source": [
        "이미 정해져 있는 함수와 이름이 겹치더라도 내가 원하는대로 새롭게 정의 가능. "
      ],
      "metadata": {
        "id": "c0D4uhNTubBd"
      }
    },
    {
      "cell_type": "markdown",
      "source": [
        "**3. syntax**\n",
        "\n",
        "반복문(for)과 조건문(if)로 나뉨\n",
        "\n",
        "**3.1. for**"
      ],
      "metadata": {
        "id": "HiDbwttmvJ8q"
      }
    },
    {
      "cell_type": "code",
      "source": [
        "b = [1, 2, 3, 4]\n",
        "for i in b:\n",
        "  print(i)"
      ],
      "metadata": {
        "colab": {
          "base_uri": "https://localhost:8080/"
        },
        "id": "XUIO4rgWvMnn",
        "outputId": "c2109c2e-8681-489f-8daa-be48d1c0417a"
      },
      "execution_count": null,
      "outputs": [
        {
          "output_type": "stream",
          "name": "stdout",
          "text": [
            "1\n",
            "2\n",
            "3\n",
            "4\n"
          ]
        }
      ]
    },
    {
      "cell_type": "markdown",
      "source": [
        "b의 각 항목을 차례대로 a에 넣는다는 의미 (for ~ in 구조)\n"
      ],
      "metadata": {
        "id": "vajAo155wRZ1"
      }
    },
    {
      "cell_type": "code",
      "source": [
        "a = [1, 23, 345, 16]\n",
        "for i in range(len(a)):\n",
        "  print(a[i])"
      ],
      "metadata": {
        "colab": {
          "base_uri": "https://localhost:8080/"
        },
        "id": "Pn-3IzBhzMz4",
        "outputId": "045da855-901c-48ff-b38a-c4de6a2b2d4e"
      },
      "execution_count": 153,
      "outputs": [
        {
          "output_type": "stream",
          "name": "stdout",
          "text": [
            "1\n",
            "23\n",
            "345\n",
            "16\n"
          ]
        }
      ]
    },
    {
      "cell_type": "code",
      "source": [
        "a = ['red', 'green', 'blue', 'purple']\n",
        "for i in range(len(a)):\n",
        "    print(a[i])"
      ],
      "metadata": {
        "colab": {
          "base_uri": "https://localhost:8080/"
        },
        "id": "6yZJ8pl4AUhP",
        "outputId": "34c0213d-0f37-4563-f52a-c7d06de9ccba"
      },
      "execution_count": 154,
      "outputs": [
        {
          "output_type": "stream",
          "name": "stdout",
          "text": [
            "red\n",
            "green\n",
            "blue\n",
            "purple\n"
          ]
        }
      ]
    },
    {
      "cell_type": "markdown",
      "source": [
        "range(4)가 i에 차례차례 들어간다고 생각하면 됨"
      ],
      "metadata": {
        "id": "HQ1K3SWIEKyM"
      }
    },
    {
      "cell_type": "code",
      "source": [
        "a=range(5); list(a)"
      ],
      "metadata": {
        "colab": {
          "base_uri": "https://localhost:8080/"
        },
        "id": "CXJtqGk_4AW4",
        "outputId": "6a15c3e1-9944-4e79-bec6-04d83aeae6a1"
      },
      "execution_count": null,
      "outputs": [
        {
          "output_type": "execute_result",
          "data": {
            "text/plain": [
              "[0, 1, 2, 3, 4]"
            ]
          },
          "metadata": {},
          "execution_count": 132
        }
      ]
    },
    {
      "cell_type": "code",
      "source": [
        " b=range(2,10); list (b)"
      ],
      "metadata": {
        "colab": {
          "base_uri": "https://localhost:8080/"
        },
        "id": "J9i0-C7v4QKp",
        "outputId": "859c2778-5bb8-46e5-c000-6a51de3e0f4e"
      },
      "execution_count": null,
      "outputs": [
        {
          "output_type": "execute_result",
          "data": {
            "text/plain": [
              "[2, 3, 4, 5, 6, 7, 8, 9]"
            ]
          },
          "metadata": {},
          "execution_count": 131
        }
      ]
    },
    {
      "cell_type": "code",
      "source": [
        "c=range(0,12,2)\n",
        "list(c)"
      ],
      "metadata": {
        "colab": {
          "base_uri": "https://localhost:8080/"
        },
        "id": "DFqpkrrF4hsg",
        "outputId": "a068900f-58ce-4793-b247-65928cb75326"
      },
      "execution_count": null,
      "outputs": [
        {
          "output_type": "execute_result",
          "data": {
            "text/plain": [
              "[0, 2, 4, 6, 8, 10]"
            ]
          },
          "metadata": {},
          "execution_count": 134
        }
      ]
    },
    {
      "cell_type": "code",
      "source": [
        "a = [1, 23, 345, 16]\n",
        "range(1)"
      ],
      "metadata": {
        "colab": {
          "base_uri": "https://localhost:8080/"
        },
        "id": "A-jbeqY-5YaP",
        "outputId": "93c731e1-61db-480c-fed5-4dabf77bf46e"
      },
      "execution_count": 155,
      "outputs": [
        {
          "output_type": "execute_result",
          "data": {
            "text/plain": [
              "range(0, 1)"
            ]
          },
          "metadata": {},
          "execution_count": 155
        }
      ]
    },
    {
      "cell_type": "markdown",
      "source": [
        "range는 범위를 지정하는 자료형. 범위에서 마지막 숫자는 포함되지 않음. 매개변수의 의미에 따라서 의미가 조금씩 다름\n",
        "\n",
        "**3.2. if**"
      ],
      "metadata": {
        "id": "v9_2zDdS3shK"
      }
    },
    {
      "cell_type": "code",
      "source": [
        "a = 0\n",
        "if a == 0:\n",
        "    print(a)\n",
        "else:\n",
        "    print(a+1)"
      ],
      "metadata": {
        "colab": {
          "base_uri": "https://localhost:8080/"
        },
        "id": "WOcOD-EaEtFQ",
        "outputId": "ee510945-f199-4fc4-ddae-7acb93f9362c"
      },
      "execution_count": 156,
      "outputs": [
        {
          "output_type": "stream",
          "name": "stdout",
          "text": [
            "0\n"
          ]
        }
      ]
    },
    {
      "cell_type": "markdown",
      "source": [
        "=은 왼쪽을 오른쪽에 assign한다는 의미. 실제로 equal의 의미로 사용할때는 ==라고 표시해야함. !=는 아니다라는 의미"
      ],
      "metadata": {
        "id": "2mM1zPXHFDLF"
      }
    },
    {
      "cell_type": "code",
      "source": [
        "a = 5\n",
        "if a == 0:\n",
        "    print(a)\n",
        "else:\n",
        "    print(a+1)"
      ],
      "metadata": {
        "colab": {
          "base_uri": "https://localhost:8080/"
        },
        "id": "KD86a0o-E3BY",
        "outputId": "676afb65-557f-47ee-8165-62c7a2238ee0"
      },
      "execution_count": 159,
      "outputs": [
        {
          "output_type": "stream",
          "name": "stdout",
          "text": [
            "6\n"
          ]
        }
      ]
    },
    {
      "cell_type": "code",
      "source": [
        "a = 5\n",
        "if a != 0:\n",
        "    print(a)\n",
        "else:\n",
        "    print(a+1)"
      ],
      "metadata": {
        "colab": {
          "base_uri": "https://localhost:8080/"
        },
        "id": "0t2SP4v0Feki",
        "outputId": "0b9f2fb0-e914-4566-a555-eaa884a7758c"
      },
      "execution_count": 160,
      "outputs": [
        {
          "output_type": "stream",
          "name": "stdout",
          "text": [
            "5\n"
          ]
        }
      ]
    },
    {
      "cell_type": "code",
      "source": [
        "for i in range(1, 3):\n",
        "    for j in range(3, 5):\n",
        "        print(i*j)"
      ],
      "metadata": {
        "colab": {
          "base_uri": "https://localhost:8080/"
        },
        "id": "0_7Erv9kF2tH",
        "outputId": "4edf25ac-8e7a-482d-def9-7fa285506ab2"
      },
      "execution_count": 161,
      "outputs": [
        {
          "output_type": "stream",
          "name": "stdout",
          "text": [
            "3\n",
            "4\n",
            "6\n",
            "8\n"
          ]
        }
      ]
    },
    {
      "cell_type": "code",
      "source": [
        "for i in range(1, 3):\n",
        "    for j in range(3, 5):\n",
        "        if j >=4:\n",
        "            print(i*j)"
      ],
      "metadata": {
        "colab": {
          "base_uri": "https://localhost:8080/"
        },
        "id": "Bf7NkTcTGSXB",
        "outputId": "e31e200e-ebee-4a5d-89ec-8ac4b9822a15"
      },
      "execution_count": 162,
      "outputs": [
        {
          "output_type": "stream",
          "name": "stdout",
          "text": [
            "4\n",
            "8\n"
          ]
        }
      ]
    },
    {
      "cell_type": "markdown",
      "source": [
        "for문을 중첩해서 사용할 수 있음"
      ],
      "metadata": {
        "id": "Uke6CPhtF3RD"
      }
    },
    {
      "cell_type": "markdown",
      "source": [
        "list comprehension: list 안쪽에 for문이 들어있음"
      ],
      "metadata": {
        "id": "YWegUm9D2_Ji"
      }
    },
    {
      "cell_type": "code",
      "source": [
        "a = [1, 2, 3, 4]\n",
        "b = [i for i in a if i >=2]\n",
        "b"
      ],
      "metadata": {
        "id": "WndZKehz3G3X",
        "colab": {
          "base_uri": "https://localhost:8080/"
        },
        "outputId": "74448012-78f6-462b-b319-a22ada94f638"
      },
      "execution_count": 163,
      "outputs": [
        {
          "output_type": "execute_result",
          "data": {
            "text/plain": [
              "[2, 3, 4]"
            ]
          },
          "metadata": {},
          "execution_count": 163
        }
      ]
    },
    {
      "cell_type": "code",
      "source": [
        "a = ['red', 'green', 'blue', 'purple']\n",
        "b = [i for i in a if len(i) >=4]\n",
        "b"
      ],
      "metadata": {
        "colab": {
          "base_uri": "https://localhost:8080/"
        },
        "id": "TtjmoaY3Gk_Z",
        "outputId": "a5d9e39f-383a-4c8d-ed10-b782fa6480d0"
      },
      "execution_count": 164,
      "outputs": [
        {
          "output_type": "execute_result",
          "data": {
            "text/plain": [
              "['green', 'blue', 'purple']"
            ]
          },
          "metadata": {},
          "execution_count": 164
        }
      ]
    },
    {
      "cell_type": "markdown",
      "source": [
        "dict comprehension: dict 안에 for문이 들어있음\n",
        "\n",
        "+dict는 중괄호로 묶여 있음"
      ],
      "metadata": {
        "id": "sdpkFc2A3Bwb"
      }
    },
    {
      "cell_type": "code",
      "source": [
        "a = ['red', 'green', 'blue', 'purple']\n",
        "b = [1, 2, 3, 4]\n",
        "c = {a[i]:b[i] for i in range(4)}\n",
        "print(c)"
      ],
      "metadata": {
        "id": "e32pcAVC3Hew",
        "colab": {
          "base_uri": "https://localhost:8080/"
        },
        "outputId": "508dcd06-7dc3-44d1-a83e-5f72aaae2585"
      },
      "execution_count": 165,
      "outputs": [
        {
          "output_type": "stream",
          "name": "stdout",
          "text": [
            "{'red': 1, 'green': 2, 'blue': 3, 'purple': 4}\n"
          ]
        }
      ]
    },
    {
      "cell_type": "markdown",
      "source": [
        "range(4)=[0,1,2,3]\n",
        "\n",
        "a[0]:b[0], a[1]:b[2], a[2]:b[2], a[3]:b[3]\n",
        "\n",
        "결과값의 순서는 중요하지 않음. "
      ],
      "metadata": {
        "id": "aeCDNf26HcAX"
      }
    },
    {
      "cell_type": "markdown",
      "source": [
        "**4. package**"
      ],
      "metadata": {
        "id": "R1_H7pnv3DsN"
      }
    },
    {
      "cell_type": "code",
      "source": [
        ""
      ],
      "metadata": {
        "id": "aJWnO0nf3GUn"
      },
      "execution_count": 153,
      "outputs": []
    }
  ]
}